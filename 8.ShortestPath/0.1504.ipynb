{
 "cells": [
  {
   "cell_type": "code",
   "execution_count": 1,
   "source": [
    "import math \n",
    "\n",
    "def solve ():\n",
    "    n, e = map (int, input().split())\n",
    "    graph = [[math.inf] * (n+1) for _ in range(n+1)]\n",
    "    for _ in range(e):\n",
    "        a, b, c = map (int, input().split())\n",
    "        graph [a][b] = c\n",
    "        graph [b][a] = c\n",
    "    v1, v2 = map (int, input().split())\n",
    "    one = dijkstra (graph, n+1, 1, v1) + dijkstra (graph, n+1, v1, v2) + dijkstra (graph, n+1, v2, n)\n",
    "    two = dijkstra (graph, n+1, 1, v2) + dijkstra (graph, n+1, v2, v1) + dijkstra (graph, n+1, v1, n)\n",
    "    print (min(one, two))"
   ],
   "outputs": [],
   "metadata": {}
  },
  {
   "cell_type": "code",
   "execution_count": null,
   "source": [
    "import heapq\n",
    "\n",
    "def dijkstra (graph, n, source, sink) :\n",
    "    dist = [math.inf] * n\n",
    "    pq = []\n",
    "    dist[source] = 0\n",
    "    heapq.heappush(pq, (0, source))\n",
    "    while (len(pq) != 0):\n",
    "        cost, node = heapq.heappop(pq)\n",
    "        for i in range(1, n):\n",
    "            nextCost = dist[node] + graph[node][i]\n",
    "            if nextCost < dist[i]:\n",
    "                dist [i] = nextCost\n",
    "                heapq.heappush(pq,(nextCost, i))\n",
    "    return dist [sink]\n",
    "\n",
    "\n",
    "\n"
   ],
   "outputs": [],
   "metadata": {}
  }
 ],
 "metadata": {
  "orig_nbformat": 4,
  "language_info": {
   "name": "python",
   "version": "3.8.2",
   "mimetype": "text/x-python",
   "codemirror_mode": {
    "name": "ipython",
    "version": 3
   },
   "pygments_lexer": "ipython3",
   "nbconvert_exporter": "python",
   "file_extension": ".py"
  },
  "kernelspec": {
   "name": "python3",
   "display_name": "Python 3.8.2 64-bit"
  },
  "interpreter": {
   "hash": "31f2aee4e71d21fbe5cf8b01ff0e069b9275f58929596ceb00d14d90e3e16cd6"
  }
 },
 "nbformat": 4,
 "nbformat_minor": 2
}